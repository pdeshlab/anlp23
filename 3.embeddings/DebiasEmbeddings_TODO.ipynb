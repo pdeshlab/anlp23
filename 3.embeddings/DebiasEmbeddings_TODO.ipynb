{
 "cells": [
  {
   "cell_type": "markdown",
   "id": "902a9eb8",
   "metadata": {},
   "source": [
    "In this homework, you will debias word embeddings using the method from [Bolukbasi et al. 2016](https://arxiv.org/abs/1607.06520) and interpreted through [Vargas and Cotterell 2020](https://arxiv.org/abs/2009.09435). "
   ]
  },
  {
   "cell_type": "code",
   "execution_count": 239,
   "id": "3a3169da",
   "metadata": {},
   "outputs": [],
   "source": [
    "import re\n",
    "from gensim.models import KeyedVectors\n",
    "import numpy as np\n",
    "from sklearn.decomposition import PCA\n",
    "from sklearn.metrics.pairwise import cosine_similarity"
   ]
  },
  {
   "cell_type": "code",
   "execution_count": 240,
   "id": "31d7827f",
   "metadata": {},
   "outputs": [],
   "source": [
    "glove = KeyedVectors.load_word2vec_format(\"../data/glove.6B.100d.100K.w2v.txt\", binary=False)"
   ]
  },
  {
   "cell_type": "code",
   "execution_count": 241,
   "id": "f9bb9ece",
   "metadata": {},
   "outputs": [
    {
     "name": "stdout",
     "output_type": "stream",
     "text": [
      "(100,)\n",
      "[ 3.7293e-01  3.8503e-01  7.1086e-01 -6.5911e-01 -1.0128e-03  9.2715e-01\n",
      "  2.7615e-01 -5.6203e-02 -2.4294e-01  2.4632e-01 -1.8449e-01  3.1398e-01\n",
      "  4.8983e-01  9.2560e-02  3.2958e-01  1.5056e-01  5.7317e-01 -1.8529e-01\n",
      " -5.2277e-01  4.6191e-01  9.2038e-01  3.1001e-02 -1.6246e-01 -4.0567e-01\n",
      "  7.8621e-01  5.7722e-01 -5.3501e-01 -6.8228e-01  1.6987e-01  3.6310e-01\n",
      " -7.1773e-02  4.7233e-01  2.7806e-02 -1.4951e-01  1.7543e-01 -3.7573e-01\n",
      " -7.8517e-01  5.8171e-01  8.6859e-01  3.1445e-02 -4.5897e-01 -4.0917e-02\n",
      "  9.5897e-01 -1.6975e-01  1.3045e-01  2.7434e-01 -6.9485e-02  2.2402e-02\n",
      "  2.4977e-01 -2.1536e-01 -3.2406e-01 -3.9867e-01  6.8613e-01  1.7923e+00\n",
      " -3.7848e-01 -2.2477e+00 -7.7025e-01  4.6582e-01  1.2411e+00  5.7756e-01\n",
      "  4.1151e-01  8.4328e-01 -5.4259e-01 -1.6715e-01  7.3927e-01 -9.3477e-02\n",
      "  9.0278e-01  5.0889e-01 -5.0031e-01  2.6451e-01  1.5443e-01 -2.9432e-01\n",
      "  1.0906e-01 -2.6667e-01  3.5438e-01  4.9079e-02  1.8018e-01 -5.8590e-01\n",
      " -5.5542e-01 -2.8987e-01  7.4278e-01  3.4530e-01 -2.8757e-02 -2.2646e-01\n",
      " -1.3113e+00 -5.7190e-01 -5.2306e-01 -1.2670e-01 -9.8678e-02 -5.3463e-01\n",
      "  2.8607e-01 -3.7501e-01  4.5742e-01  4.5975e-02 -2.4675e-01  4.5656e-02\n",
      " -3.8302e-01 -9.3711e-01  3.9138e-02 -5.3911e-01]\n"
     ]
    }
   ],
   "source": [
    "# let's print one sample vector just to see what it looks like\n",
    "print(glove[\"man\"].shape)\n",
    "print(glove[\"man\"])"
   ]
  },
  {
   "cell_type": "markdown",
   "id": "932ca67b",
   "metadata": {},
   "source": [
    "Now let's calculate the cosine similarity of that vector (\"man\") with a set of other vectors (\"king\" and \"cabbage\").  This returns two cosine similarities, the first cos(man, king) and the second cos(man, cabbage)."
   ]
  },
  {
   "cell_type": "code",
   "execution_count": 242,
   "id": "dec789b1",
   "metadata": {},
   "outputs": [
    {
     "data": {
      "text/plain": [
       "array([0.5118681 , 0.04780922], dtype=float32)"
      ]
     },
     "execution_count": 242,
     "metadata": {},
     "output_type": "execute_result"
    }
   ],
   "source": [
    "glove.cosine_similarities(glove[\"man\"], [glove[\"king\"], glove[\"cabbage\"]])"
   ]
  },
  {
   "cell_type": "markdown",
   "id": "4aea7941",
   "metadata": {},
   "source": [
    "Let's use that machinery to find the differences between \"man\" and \"woman\" and a set of target terms."
   ]
  },
  {
   "cell_type": "code",
   "execution_count": 243,
   "id": "26939690",
   "metadata": {},
   "outputs": [
    {
     "name": "stdout",
     "output_type": "stream",
     "text": [
      "0.109\tmagician\n",
      "0.095\tmechanic\n",
      "0.082\tarchitect\n",
      "0.046\tactor\n",
      "0.035\tcook\n",
      "0.012\tchef\n",
      "-0.024\tdoctor\n",
      "-0.110\tlibrarian\n",
      "-0.154\tactress\n",
      "-0.158\tnurse\n"
     ]
    }
   ],
   "source": [
    "targets=[\"doctor\", \"nurse\", \"actor\", \"actress\", \"mechanic\", \"librarian\", \"architect\", \"magician\", \"cook\", \"chef\"]\n",
    "diffs={}\n",
    "for term in targets:\n",
    "    \n",
    "    m,w=glove.cosine_similarities(glove[term], [glove[\"man\"], glove[\"woman\"]])\n",
    "    diffs[term]=m-w\n",
    "\n",
    "for k, v in sorted(diffs.items(), key=lambda item: item[1], reverse=True):\n",
    "    print(\"%.3f\\t%s\" % (v,k))"
   ]
  },
  {
   "cell_type": "markdown",
   "id": "b6085ba0",
   "metadata": {},
   "source": [
    "We can see a gender difference here, where \"man\" is more aligned \"magician\" and \"mechanic\" and \"woman\" is more aligned with \"actress\" and \"nurse\"."
   ]
  },
  {
   "cell_type": "markdown",
   "id": "881bf91a",
   "metadata": {},
   "source": [
    "**Q1.** Let's debias those embeddings, using the method from [Bolukbasi et al. 2016](https://arxiv.org/abs/1607.06520) and interpreted through [Vargas and Cotterell 2020](https://arxiv.org/abs/2009.09435).  Debiasing embeddings requires two steps: finding the gender subspace and then subtracting the orthogonal projection onto that subspace from the original embedding.  Let's start with the first step: creating \"defining sets\" that capture the variation:\n",
    "\n",
    "$$\n",
    "D_1 = \\{man, woman\\}\\\\\n",
    "D_2 = \\{mr., mrs.\\}\n",
    "$$\n",
    "\n",
    "Following Vargas and Cotterell, we can find the gender subspace by constructing a new matrix $D'$ by substracting the embedding for a word in a defining set from the average of embeddings in that set. Using $e_{word}$ to denote the embedding for a word, this process would results in the following for the defining sets above:\n",
    "\n",
    "$$\n",
    "\\begin{bmatrix}\n",
    "e_{man} - \\textrm{mean}(e_{man},e_{woman}) \\\\\n",
    "e_{woman} - \\textrm{mean}(e_{man},e_{woman})\\\\\n",
    "e_{mr.} - \\textrm{mean}(e_{mr.},e_{mrs.})\\\\\n",
    "e_{mrs.} - \\textrm{mean}(e_{mr.},e_{mrs.})\\\\\n",
    "\\end{bmatrix}\n",
    "$$\n",
    "\n",
    "If the original embeddings (e.g., for $e_{man}$) are 100 dimensions (and so the mean over any set of embeddings is also 100 dimensions), then the resulting matrix $D'$ should be $4 \\times 100$.  Create this matrix $D'$ and name it `subspace_matrix`."
   ]
  },
  {
   "cell_type": "code",
   "execution_count": 244,
   "id": "d7abe9bd",
   "metadata": {},
   "outputs": [
    {
     "name": "stdout",
     "output_type": "stream",
     "text": [
      "[[ 0.31345838  0.3255584   0.6513884  -0.7185816  -0.06048441  0.8676784\n",
      "   0.21667838 -0.11567461 -0.30241162  0.18684839 -0.2439616   0.2545084\n",
      "   0.43035838  0.03308839  0.2701084   0.0910884   0.5136984  -0.2447616\n",
      "  -0.5822416   0.4024384   0.8609084  -0.02847061 -0.2219316  -0.4651416\n",
      "   0.7267384   0.5177484  -0.5944816  -0.7417516   0.1103984   0.30362839\n",
      "  -0.1312446   0.4128584  -0.03166561 -0.2089816   0.11595839 -0.43520162\n",
      "  -0.8446416   0.5222384   0.8091184  -0.02802661 -0.5184416  -0.10038861\n",
      "   0.8994984  -0.22922161  0.07097839  0.2148684  -0.12895662 -0.03706961\n",
      "   0.1902984  -0.2748316  -0.3835316  -0.4581416   0.6266584   1.7328284\n",
      "  -0.4379516  -2.3071716  -0.8297216   0.4063484   1.1816283   0.5180884\n",
      "   0.35203838  0.7838084  -0.6020616  -0.22662161  0.67979836 -0.15294862\n",
      "   0.8433084   0.44941837 -0.5597816   0.2050384   0.09495839 -0.3537916\n",
      "   0.04958839 -0.3261416   0.2949084  -0.01039261  0.12070839 -0.6453716\n",
      "  -0.6148916  -0.3493416   0.6833084   0.28582838 -0.08822861 -0.2859316\n",
      "  -1.3707716  -0.6313716  -0.58253163 -0.1861716  -0.1581496  -0.5941016\n",
      "   0.22659838 -0.43448162  0.39794838 -0.01349661 -0.3062216  -0.01381561\n",
      "  -0.44249162 -0.9965816  -0.02033361 -0.5985816 ]\n",
      " [ 0.5342084   0.3887784   0.5337284   0.01466239  0.05193839  1.2198284\n",
      "   0.10708839  0.1812284   0.3309784   0.2681884  -0.8098116   0.2905984\n",
      "   0.7010984   0.3211984   0.1156984  -0.02768061  0.4090184  -0.2760016\n",
      "  -0.5222916   0.3401984   0.10675839 -0.07094861 -0.01541261  0.24377841\n",
      "   0.5558284   0.4109984  -0.49983162 -1.6557716   0.12485839  0.1724584\n",
      "   0.1450484   0.45669842  0.5978684  -0.4046716   0.17498839 -0.6795116\n",
      "  -0.7468816   0.2262784   1.0010284   0.40968838 -0.9109616   0.04206839\n",
      "   0.15478839 -0.2653416   0.17688839  0.1537384  -0.2723416   0.06159839\n",
      "   0.12818839 -0.2922916  -0.31446162 -0.4557816   0.7843184   1.6206284\n",
      "  -0.4688816  -2.0570717  -0.7581516   0.15784839  1.1602284   0.4917884\n",
      "   0.3814784   0.6664084  -0.1515246  -0.0818776   0.6609184   0.0481284\n",
      "   0.7816884   0.24364838 -0.48491162 -0.00310961  0.07161839 -0.1306526\n",
      "  -0.1652616   0.5072984   0.4859984   0.7816584   0.08913839 -0.6857516\n",
      "  -0.7433816  -1.1425716  -0.14785661  0.2621984   0.4184684   0.03239639\n",
      "  -1.3153716  -1.2862716   0.02592939  0.3088584   0.02209439 -0.8255816\n",
      "   0.8180384  -0.27955163  0.7645384  -0.1516786  -0.5188816   0.4062384\n",
      "  -0.6196516  -0.6059516   0.09214839 -0.3670116 ]\n",
      " [-0.11508109 -0.23603109  0.12975891 -0.2387711  -0.18184109 -0.22904108\n",
      "   0.02482391  0.09233191 -0.3088111  -0.89434105  0.4155589  -0.1697311\n",
      "   0.6434189   0.21030891 -0.3251111  -0.1286611  -0.10307109  0.3418189\n",
      "  -0.7447811   0.8493189  -0.3755211  -0.64470106 -0.15558109 -1.021671\n",
      "   0.08319491  0.77814895  0.12048891 -0.6928111   0.1680289   0.15497892\n",
      "   0.5633189   1.2624289   0.4736889   0.11386891 -0.4473911   0.7646789\n",
      "   0.12372891 -0.04060309  0.09175091 -0.3626811  -0.3145011  -0.3032911\n",
      "   0.79169893  0.03578691 -0.22900109  0.03337891 -0.10771109 -0.5982711\n",
      "  -0.17754109 -0.41030112  0.03786391  0.3214789   0.8361089   0.2423689\n",
      "  -0.3300511  -1.915871   -0.22539109  0.17495891  0.4161289  -0.23701109\n",
      "  -0.09818109  0.6652389  -0.7797611   0.0423109   1.0960289  -0.10825109\n",
      "   1.116329    0.8054689  -0.19407108  0.5453589   0.15374891 -0.00314209\n",
      "  -0.2658411  -0.3394011   0.01114081  0.60174894  0.4144389  -0.09653109\n",
      "  -0.3816911  -0.10153109  0.5207589  -0.00883609 -0.1461411  -0.6490311\n",
      "  -0.94797105  0.04581091 -0.5175711  -0.18074109  0.00698791 -0.9746311\n",
      "   0.2563089  -0.27165112  0.2842489   0.6006289   0.36403888 -0.4671211\n",
      "  -0.23307109 -0.09344109 -0.5842011  -0.20861109]\n",
      " [-0.15692109 -0.1676911  -0.7138011   0.29025888 -0.2896411   0.3876589\n",
      "   0.27357888  0.3459089   0.0657369  -0.7521511   0.2927989   0.03599391\n",
      "   0.00316591  0.4199489  -0.2422611  -0.3869911   0.04374891  0.07817191\n",
      "  -0.60637105  0.7764089  -0.5594711  -0.23874108  0.2548789  -0.13358109\n",
      "   0.2936789   0.3059889  -0.54941106 -0.98068106 -0.25701112 -0.07284209\n",
      "   0.8880289   0.86082894  1.1614289   0.3893089  -0.4795411   0.65942895\n",
      "   0.72410893  0.18884891  0.4401089  -0.09604109 -0.49033108 -0.64965105\n",
      "   0.4712289   0.2760289  -0.19856109  0.3556389  -0.22316109 -0.28611112\n",
      "   0.0501509  -0.07613809  0.68596894 -0.10011109  1.0024989   0.63958895\n",
      "   0.03019391 -1.6397711  -0.40321112 -0.19089109  0.18816891 -0.18049109\n",
      "  -0.2933911   0.4466089  -0.21303108 -0.01849509  0.5916189   0.08067591\n",
      "   1.0176289   0.8054989   0.02838091  0.32615888 -0.2331411   0.19587891\n",
      "  -0.2616611  -0.0369831  -0.08095909  1.0120289   0.11545891 -0.2516211\n",
      "  -0.44914111 -0.17090109  0.1611589   0.2319989   0.44086888 -0.4405211\n",
      "  -0.91089106 -0.3660611  -0.4811711   0.3249189  -0.3097211  -0.71505105\n",
      "   0.5732489  -0.60788107  0.53792894  0.47053888 -0.3092111  -0.2584211\n",
      "  -0.06831909  0.02296291 -0.74521106  0.17089891]]\n"
     ]
    }
   ],
   "source": [
    "import numpy as np\n",
    "D1=[\"man\", \"woman\"]\n",
    "D2=[\"mr.\", \"mrs.\"]\n",
    "\n",
    "e_man = glove[\"man\"]\n",
    "e_woman = glove[\"woman\"]\n",
    "e_mrs = glove[\"mrs.\"]\n",
    "e_mr = glove[\"mr.\"]\n",
    "e_mr.shape\n",
    "  # The shape is 100!\n",
    "\n",
    "# Adapted from SemAxis_TODO\n",
    "# man-woman\n",
    "man_woman_to_average =[glove[\"man\"], glove[\"woman\"]]\n",
    "mw_average=np.mean([man_woman_to_average])\n",
    "# mr-mrs\n",
    "mr_mrs_to_average =[glove[\"mr.\"], glove[\"mrs.\"]]\n",
    "mrms_average=np.mean([mr_mrs_to_average])\n",
    "\n",
    "row1 = e_man - mw_average\n",
    "#row1_final = np.transpose(row1.reshape([100,1]))\n",
    "\n",
    "row2 = e_woman - mw_average\n",
    "# row2_final = np.transpose(row2.reshape([100,1]))\n",
    "\n",
    "row3 = e_mr - mrms_average\n",
    "# row3_final = np.transpose(row3.reshape([100,1]))\n",
    "\n",
    "row4 = e_mrs - mrms_average\n",
    "# row4_final = np.transpose(row4.reshape([100,1]))\n",
    "\n",
    "subspace_matrix = [[row1], \n",
    "                   [row2],\n",
    "                   [row3],\n",
    "                   [row4]]\n",
    "\n",
    "subspace_matrix = np.array(subspace_matrix).squeeze()\n",
    "\n",
    "\n",
    "\n",
    "print(subspace_matrix)\n"
   ]
  },
  {
   "cell_type": "code",
   "execution_count": 245,
   "id": "b61373e3",
   "metadata": {},
   "outputs": [
    {
     "name": "stdout",
     "output_type": "stream",
     "text": [
      "(4, 100)\n"
     ]
    }
   ],
   "source": [
    "# This should be (4,100)\n",
    "print(subspace_matrix.shape)"
   ]
  },
  {
   "cell_type": "markdown",
   "id": "6274b5c3",
   "metadata": {},
   "source": [
    "Step two is to run [PCA](https://en.wikipedia.org/wiki/Principal_component_analysis) over that `subspace_matrix` matrix.  The gender subspace in this example is the first principle component of that process. Here's how you run PCA on a random matrix to get the first principle component."
   ]
  },
  {
   "cell_type": "code",
   "execution_count": 246,
   "id": "ffc85869",
   "metadata": {},
   "outputs": [
    {
     "name": "stdout",
     "output_type": "stream",
     "text": [
      "fake matrix:\n",
      "[[0.59979985 0.89504495 0.02705687]\n",
      " [0.64128229 0.06481147 0.91095982]\n",
      " [0.18881286 0.08845359 0.6208551 ]]\n",
      "first principle component:\n",
      "[ 0.12012248  0.72410197 -0.67915162]\n",
      "[[ 0.12012248  0.72410197 -0.67915162]]\n"
     ]
    }
   ],
   "source": [
    "fake_matrix=np.random.rand(3,3)\n",
    "print(\"fake matrix:\")\n",
    "print(fake_matrix)\n",
    "\n",
    "# We only need one principle component, so we'll set n_components=1\n",
    "pca=PCA(n_components=1).fit(fake_matrix)\n",
    "subspace_ex=pca.components_[0]\n",
    "\n",
    "print(\"first principle component:\")\n",
    "print(subspace_ex)\n",
    "print(pca.components_)"
   ]
  },
  {
   "cell_type": "code",
   "execution_count": 247,
   "id": "b2f9c85b",
   "metadata": {},
   "outputs": [
    {
     "name": "stdout",
     "output_type": "stream",
     "text": [
      "[ 0.12012248  0.72410197 -0.67915162]\n",
      "[ 0.12012248  0.72410197 -0.67915162]\n"
     ]
    },
    {
     "data": {
      "text/plain": [
       "(3,)"
      ]
     },
     "execution_count": 247,
     "metadata": {},
     "output_type": "execute_result"
    }
   ],
   "source": [
    "# You'll see that this subspace is already normalized to unit length:\n",
    "print(subspace_ex)\n",
    "print(subspace_ex/np.sqrt(np.dot(subspace_ex, subspace_ex)))\n",
    "subspace_ex.shape"
   ]
  },
  {
   "cell_type": "markdown",
   "id": "00b2c16c",
   "metadata": {},
   "source": [
    "**Q2.** Run PCA on that subspace matrix to get the subspace axis."
   ]
  },
  {
   "cell_type": "code",
   "execution_count": 248,
   "id": "365ad342",
   "metadata": {},
   "outputs": [
    {
     "name": "stdout",
     "output_type": "stream",
     "text": [
      "first principle component:\n",
      "[ 0.11603842  0.11445931  0.17490464 -0.06605324  0.04787533  0.20222813\n",
      "  0.00225227 -0.03337409  0.03640716  0.21475543 -0.18589891  0.07010151\n",
      "  0.04989893 -0.02383162  0.09524161  0.0563787   0.09899762 -0.09684595\n",
      "  0.02625981 -0.09062164  0.1835587   0.0806286  -0.03016761  0.10647134\n",
      "  0.09072191 -0.01883493 -0.06899775 -0.08525849  0.03143402  0.03756694\n",
      " -0.14139953 -0.12825754 -0.09846704 -0.11455748  0.1241527  -0.26089197\n",
      " -0.2440844   0.05834092  0.13330106  0.0914202  -0.06864227  0.09111322\n",
      " -0.03110604 -0.08132536  0.06989511 -0.00154357 -0.00926636  0.09458916\n",
      "  0.04539823 -0.00710394 -0.14097895 -0.11680316 -0.04091208  0.25102094\n",
      " -0.06056746 -0.07806938 -0.0971934   0.05455751  0.1751944   0.14475709\n",
      "  0.11376267  0.032123    0.03172037 -0.03226599 -0.03736976 -0.00476188\n",
      " -0.05274808 -0.09554956 -0.08746713 -0.07122406  0.02319685 -0.06534515\n",
      "  0.03929776  0.06747835  0.08820648 -0.07466307 -0.03399871 -0.1008185\n",
      " -0.05528405 -0.13328253 -0.02595735  0.03361828  0.01178422  0.08935851\n",
      " -0.08316024 -0.17133597  0.0521148   0.00554997  0.01779909  0.02569508\n",
      "  0.02995541  0.01730853  0.03979321 -0.1275761  -0.09437123  0.11915882\n",
      " -0.0786337  -0.15045734  0.14288616 -0.08999156]\n",
      "100\n"
     ]
    }
   ],
   "source": [
    "# We only need one principle component, so we'll set n_components=1\n",
    "pca=PCA(n_components=1).fit(subspace_matrix)\n",
    "subspace=pca.components_[0]\n",
    "\n",
    "print(\"first principle component:\")\n",
    "print(subspace)\n",
    "print(len(subspace))\n",
    "\n",
    "\n",
    "# print(subspace/np.sqrt(np.dot(subspace, subspace)))\n",
    "# Just checking to see if the normalized version of the vector is the same as the original vector\n"
   ]
  },
  {
   "cell_type": "markdown",
   "id": "2462a09c",
   "metadata": {},
   "source": [
    "That subspace is the gender axis. You'll remember from class that we find the orthogoal projection of any unit-normalized vector $w$ onto a subspace $b$ by:\n",
    "\n",
    "$$\n",
    "w_b = \\textrm{dot}(w,b) \\; b\n",
    "$$\n",
    "\n",
    "If $b$ and $x$ are 100 dimensions, $w_b$ is 100 dimensions too.  The debiased vector $w_d$ is then simply $w - w_b$.  \n",
    "\n",
    "**Q3.** Debias the vectors for \"man\", \"woman\", and the targets used above (\"doctor\", \"nurse\", \"actor\", \"actress\", \"mechanic\", \"librarian\", \"architect\", \"magician\", \"cook\", \"chef\") and see if debiasing changes the differences between these terms and \"man\"/\"woman\" as noted above.  Glove embeddings are not normalized ahead of time, so be sure to normalize them before carrying out your projection (i.e., dividing vector v by $\\sqrt{\\textrm{dot}(v,v)}$).\n"
   ]
  },
  {
   "cell_type": "code",
   "execution_count": 249,
   "id": "12444919",
   "metadata": {},
   "outputs": [],
   "source": [
    "#for word in targets:\n",
    "#    w_b = np.dot(glove[word]/np.sqrt(np.dot(glove[word], glove[word])), subspace)*subspace\n",
    "\n",
    "w_b_doctor = np.dot(glove[\"doctor\"]/np.sqrt(np.dot(glove[\"doctor\"], glove[\"doctor\"])), subspace)*subspace\n",
    "w_b_nurse = np.dot(glove[\"nurse\"]/np.sqrt(np.dot(glove[\"nurse\"], glove[\"nurse\"])), subspace)*subspace\n",
    "w_b_actor = np.dot(glove[\"actor\"]/np.sqrt(np.dot(glove[\"actor\"], glove[\"actor\"])), subspace)*subspace\n",
    "w_b_actress = np.dot(glove[\"actress\"]/np.sqrt(np.dot(glove[\"actress\"], glove[\"actress\"])), subspace)*subspace\n",
    "w_b_mechanic = np.dot(glove[\"mechanic\"]/np.sqrt(np.dot(glove[\"mechanic\"], glove[\"mechanic\"])), subspace)*subspace\n",
    "w_b_librarian = np.dot(glove[\"librarian\"]/np.sqrt(np.dot(glove[\"librarian\"], glove[\"librarian\"])), subspace)*subspace\n",
    "w_b_architect = np.dot(glove[\"architect\"]/np.sqrt(np.dot(glove[\"architect\"], glove[\"architect\"])), subspace)*subspace\n",
    "w_b_magician = np.dot(glove[\"magician\"]/np.sqrt(np.dot(glove[\"magician\"], glove[\"magician\"])), subspace)*subspace\n",
    "w_b_cook = np.dot(glove[\"cook\"]/np.sqrt(np.dot(glove[\"cook\"], glove[\"cook\"])), subspace)*subspace\n",
    "w_b_chef = np.dot(glove[\"chef\"]/np.sqrt(np.dot(glove[\"chef\"], glove[\"chef\"])), subspace)*subspace\n",
    "\n",
    "# DEBIASED VECTORS\n",
    "w_d_doctor = glove[\"doctor\"] - w_b_doctor \n",
    "w_d_nurse = glove[\"nurse\"] - w_b_nurse\n",
    "w_d_actor = glove[\"actor\"] - w_b_actor\n",
    "w_d_actress = glove[\"actress\"] - w_b_actress\n",
    "w_d_mechanic = glove[\"mechanic\"] - w_b_mechanic\n",
    "w_d_librarian = glove[\"librarian\"] - w_b_librarian\n",
    "w_d_love = glove[\"architect\"] - w_b_architect\n",
    "w_d_magician = glove[\"magician\"] - w_b_magician\n",
    "w_d_cook = glove[\"cook\"] - w_b_cook\n",
    "w_d_chef = glove[\"chef\"] - w_b_chef\n",
    "\n",
    "\n",
    "\n",
    "\n"
   ]
  },
  {
   "cell_type": "code",
   "execution_count": 250,
   "id": "a708c847",
   "metadata": {},
   "outputs": [
    {
     "name": "stdout",
     "output_type": "stream",
     "text": [
      "-0.02133882\n",
      "               0\n",
      "magician   0.112\n",
      "mechanic   0.099\n",
      "architect  0.082\n",
      "actor      0.048\n",
      "cook       0.035\n",
      "chef       0.013\n",
      "doctor    -0.021\n",
      "librarian -0.109\n",
      "actress   -0.153\n",
      "nurse     -0.157\n"
     ]
    }
   ],
   "source": [
    "# DOES THIS DEBIASING CHANGES THE DIFFERENCES BETWEEN THESE TERMS AND MAN/WOMAN\n",
    "targets=[w_d_doctor, w_d_nurse, w_d_actor, w_d_actress, w_d_mechanic, w_d_librarian,\n",
    "        w_d_love, w_d_magician, w_d_cook, w_d_chef]\n",
    "\n",
    "a,b = glove.cosine_similarities(w_d_doctor, [glove[\"man\"], glove[\"woman\"]])\n",
    "doctor_diff = a-b\n",
    "\n",
    "print(doctor_diff)\n",
    "# This value is the same as the value produced in the function, so it is working correctly.\n",
    "\n",
    "\n",
    "word_ts =[\"doctor\", \"nurse\", \"actor\", \"actress\", \"mechanic\", \"librarian\", \"architect\", \"magician\", \"cook\", \"chef\"]\n",
    "\n",
    "\n",
    "diffs= []\n",
    "for term in targets:\n",
    "    \n",
    "    m,w=glove.cosine_similarities(term, [glove[\"man\"], glove[\"woman\"]])\n",
    "    diffs.append(m-w) \n",
    "    \n",
    "    \n",
    "res = dict(zip(word_ts, diffs))\n",
    "\n",
    "df = np.transpose(pd.DataFrame(res, index = [0]))\n",
    "df = df.sort_values(0, ascending = False)\n",
    "df = df.round(3)\n",
    "print(df)\n",
    "    \n",
    "\n"
   ]
  },
  {
   "cell_type": "code",
   "execution_count": 251,
   "id": "51812699",
   "metadata": {},
   "outputs": [
    {
     "name": "stdout",
     "output_type": "stream",
     "text": [
      "0.109\tmagician\n",
      "0.095\tmechanic\n",
      "0.082\tarchitect\n",
      "0.046\tactor\n",
      "0.035\tcook\n",
      "0.012\tchef\n",
      "-0.024\tdoctor\n",
      "-0.110\tlibrarian\n",
      "-0.154\tactress\n",
      "-0.158\tnurse\n"
     ]
    }
   ],
   "source": [
    "# Repeating code block from above to easily compare numbers\n",
    "targets=[\"doctor\", \"nurse\", \"actor\", \"actress\", \"mechanic\", \"librarian\", \"architect\", \"magician\", \"cook\", \"chef\"]\n",
    "diffs={}\n",
    "for term in targets:\n",
    "    \n",
    "    m,w=glove.cosine_similarities(glove[term], [glove[\"man\"], glove[\"woman\"]])\n",
    "    diffs[term]=m-w\n",
    "\n",
    "for k, v in sorted(diffs.items(), key=lambda item: item[1], reverse=True):\n",
    "    print(\"%.3f\\t%s\" % (v,k))"
   ]
  },
  {
   "cell_type": "markdown",
   "id": "a22018d7",
   "metadata": {},
   "source": [
    "**check-plus**. Reflect in 100 words on the differences between this gender axis construction and the axis construction in SemAxis.  How are they different?"
   ]
  },
  {
   "cell_type": "markdown",
   "id": "732fda46",
   "metadata": {},
   "source": [
    "At first glance, the difference between the gender axis construction and the axis construction in SemAxis are not that different. The terms are in the same order between the two axes. However, the values for each term are different than the original construction."
   ]
  }
 ],
 "metadata": {
  "kernelspec": {
   "display_name": "Python 3 (ipykernel)",
   "language": "python",
   "name": "python3"
  },
  "language_info": {
   "codemirror_mode": {
    "name": "ipython",
    "version": 3
   },
   "file_extension": ".py",
   "mimetype": "text/x-python",
   "name": "python",
   "nbconvert_exporter": "python",
   "pygments_lexer": "ipython3",
   "version": "3.11.4"
  }
 },
 "nbformat": 4,
 "nbformat_minor": 5
}
