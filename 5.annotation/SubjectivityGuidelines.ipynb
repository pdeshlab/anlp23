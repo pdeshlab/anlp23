{
 "cells": [
  {
   "cell_type": "markdown",
   "id": "0e3f9bea",
   "metadata": {},
   "source": [
    "For our in-class exercise today, you worked with a team to formalize the distiction between subjectivity vs. objectivity.  Now you will annotate a new set of documents with your formalization and create a minimal set of guidelines reflecting your interpretation of that concept."
   ]
  },
  {
   "cell_type": "markdown",
   "id": "6b7f3c4b",
   "metadata": {},
   "source": [
    "**Q1**. In ~100-200 words, describe your definition of subjective and objective texts. (This can be the same description as your in-class group activity.)"
   ]
  },
  {
   "cell_type": "markdown",
   "id": "1a5593d4",
   "metadata": {},
   "source": [
    "I found this exercise difficult! But I'll try to write out my logic on whether text is subjective or objective. If the text expresses an opinion that is not factual. Take these two examples. First, imagine someone telling you \"Tigers are the best big cats.\" This is clearly an opinion, and one not based in a falsifiable claim. There is no way you can test whether or not they are the best conditional on what this person believes that will get you to some objective reality. Now take another example: \"It is raining outside.\" If someone comes up to you and tells you this (a person, not your weather app), then they are describing a verifiable fact about the world without judgement. Now, my definition does not account for if speakers are lying. I cannot tell from text if someone says \"The sky is blue today,\" but actually the sky has turned a roiling pink and we just haven't noticed. I assume the intent of speakers is to tell the truth.\n",
    "\n",
    "There are other dimensions to subjectivity and objectivity. People may say things confidently and declaratively (assume a voice we often associate with objectivity) while stating a claim we *know* to be wrong. This is subjective, because it is no longer based in fact. For example, \"vaccines cause autism,\" is a subjective statement. This means that my classification of what is subjective versus objective will differ from someone who is a flat-earther, for example. Someone may make a statement that is factual but embed judgements in it, such as \"the trading value of stock X is now at 50 dollars a share, which is extremely low.\" That \"extremeley low\" is a judgement on $50/share, and makes the document subjective.\n",
    "\n",
    "Finally, any admission of personal lens puts a text in the subjective category. If someone were to say \"I think it's raining outside,\" that introduces subjectivity and personal observation. Texts like \"I believe in God,\" \"I want ice cream,\" and \"I think Texas is in the United States\" are all subjective because they invoke this personal quality."
   ]
  },
  {
   "cell_type": "markdown",
   "id": "32d145c2",
   "metadata": {},
   "source": [
    "**Q2**. Annotate the data in `data/subjective_objective.tsv` using this definition.  Your annotation should consist entirely of putting either \"subjective\" or \"objective\" in the first column of that file.  Don't discuss these annotations with anyone else (including your class group) -- they should be *independent* at this point.  You'll upload this file to bCourses along with this completed notebook."
   ]
  },
  {
   "cell_type": "markdown",
   "id": "0129968e",
   "metadata": {},
   "source": [
    "**Q3**. From those annotations, pull out 15 examples that characterize the ends of this concept and the boundary between them. These 15 examples should be:\n",
    "\n",
    "* 5 clearly objective documents\n",
    "* 5 clearly subjective documents\n",
    "* 5 documents on the boundary between the two classes; for each of these 5 examples, explain why they might be confusing, how they should be annotated in your system, and any general principles we should take away from the example that we should use to guide our annotation of similar cases of ambiguity.\n",
    "\n",
    "Go ahead and put these examples in this notebook."
   ]
  },
  {
   "cell_type": "markdown",
   "id": "c3a0d49c",
   "metadata": {},
   "source": [
    "*Clearly objective documents*:\n",
    "    \n",
    "    1. 2+2 = 4\n",
    "    2. Berkeley time starts at 10 minutes after the official time.\n",
    "    3. John Krasinski is married to Emily Blunt.\n",
    "    4. My young relatives, who were 4 and 5 years old at the time, had just enrolled in a boarding preschool that the Chinese government had established in my hometown, Kanlho, a seminomadic region in the northeast corner of the Tibetan plateau.\n",
    "    5.It's raining outside.\n",
    "    \n",
    "*Clearly subjective documents*:\n",
    "    \n",
    "    1. NLP is the best subfield of AI.\n",
    "    2. Facebook should be regulated.\n",
    "    3. That is the cutest cat I have ever seen.\n",
    "    4. It has not been a good month for Facebook.\n",
    "    5. John Krasinski loves Emily Blunt.\n",
    "    \n",
    "*Documents on the boundary between the two classes*:\n",
    "    \n",
    "    1. By my count, there are 10 movies by actor-turned-directors at this year’s Toronto International Film Festival.\n",
    "    \n",
    "    I classified this document as *subjective*. The phrase \"by my count\" did a lot of work here. It invokes the personal quality which in my definition classifies texts as subjective. This might be confusing because the speaker presents a fact that we could verify --- are there 10 movies by actor-turned-directors at that year's Toronto International Film Festival? But the speaker introducing that fact the phrase \"by my count\" makes the text subjective. \n",
    "    \n",
    "    2. Stately, plump Buck Mulligan came from the stairhead, bearing a bowl of lather on which a mirror and a razor lay crossed.\n",
    "    \n",
    "    I classified this document as *subjective.* I think this text is from literature, and likely written in third-person omniscient. However, adjectives like \"stately\" and \"plump\" are judgements on Buck Mulligan, which makes this a subjective text. This could be confusing because the text is declarative and authoritative in tone, and those descriptors of Buck Mulligan could be correct! But they are not verifiable, and seem wholly subjective in nature to determine.\n",
    "    \n",
    "    \n",
    "    3. Because most demographers look ahead only to 2100, there is no consensus on exactly how quickly populations will fall after that.\n",
    "    \n",
    "    I classified this document as *objective*. It is descriptive and does not seem to make any subjective claims. However, this document is tricky (I am least confident about this classification than any of my other ones). The starting clause \"Because most demographers look ahead only to 2100\" is a verifiable claim, but I am not exactly sure how to verify it. It requires expert status in a field to determine whether or not this is fact, fiction, or some well-meaning biased take. Expert opinions (read: facts) are difficult to classify.\n",
    "    \n",
    "    4. For years, Ireland’s low corporate tax rate has lured multinational organizations to set up overseas subsidiaries here.\n",
    "    \n",
    "    I classified this document as *subjective*. This is confusing because the sentence sounds factual and like it is coming from an expert. However, the descriptor \"low\" adds a subjective layer to this sentence. If it had instead said \"For years, Ireland's 1% corporate tax rate has lured multinational organizations to set up overseas,\" then I may have classified it as objective. The speaker is judging Irelan'd corporate tax rate to be low, which is a subjective measure.\n",
    "    \n",
    "    5. The COVID-19 vaccine causes infertility.\n",
    "    \n",
    "    I classified this document as *subjective*. This is because it states a claim we (I) know to be wrong, even if it does so authoritatively. This is a confusing document because there may be coders who believe this statement and therefore believe it is fact."
   ]
  },
  {
   "cell_type": "code",
   "execution_count": null,
   "id": "f2d5c53a",
   "metadata": {},
   "outputs": [],
   "source": []
  }
 ],
 "metadata": {
  "kernelspec": {
   "display_name": "Python 3 (ipykernel)",
   "language": "python",
   "name": "python3"
  },
  "language_info": {
   "codemirror_mode": {
    "name": "ipython",
    "version": 3
   },
   "file_extension": ".py",
   "mimetype": "text/x-python",
   "name": "python",
   "nbconvert_exporter": "python",
   "pygments_lexer": "ipython3",
   "version": "3.11.4"
  }
 },
 "nbformat": 4,
 "nbformat_minor": 5
}
