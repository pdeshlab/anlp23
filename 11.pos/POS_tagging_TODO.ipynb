{
 "cells": [
  {
   "cell_type": "markdown",
   "metadata": {},
   "source": [
    "In this notebook, you'll explore part of speech tagging using the Penn Treebank tagset (along with the performance of POS tagging in Spacy.)"
   ]
  },
  {
   "cell_type": "code",
   "execution_count": 15,
   "metadata": {},
   "outputs": [],
   "source": [
    "import spacy, glob, os"
   ]
  },
  {
   "cell_type": "code",
   "execution_count": 16,
   "metadata": {},
   "outputs": [
    {
     "data": {
      "text/plain": [
       "('parser', <spacy.pipeline.dep_parser.DependencyParser at 0x16e618190>)"
      ]
     },
     "execution_count": 16,
     "metadata": {},
     "output_type": "execute_result"
    }
   ],
   "source": [
    "nlp = spacy.load('en_core_web_sm', disable=['ner,parser'])\n",
    "nlp.remove_pipe('ner')\n",
    "nlp.remove_pipe('parser')"
   ]
  },
  {
   "cell_type": "code",
   "execution_count": 17,
   "metadata": {},
   "outputs": [
    {
     "name": "stdout",
     "output_type": "stream",
     "text": [
      "Open VB\n",
      "the DT\n",
      "pod NNP\n",
      "bay NNP\n",
      "doors NNS\n",
      "Hal NNP\n"
     ]
    }
   ],
   "source": [
    "def get_spacy_tags(text):\n",
    "    doc=nlp(text)\n",
    "    for word in doc:\n",
    "        print(word.text, word.tag_)\n",
    "\n",
    "get_spacy_tags(\"Open the pod bay doors Hal\")"
   ]
  },
  {
   "cell_type": "code",
   "execution_count": 20,
   "metadata": {},
   "outputs": [],
   "source": [
    "def read_docs(inputDir, maxDocs=100):\n",
    "    \"\"\" Read in movie documents (all ending in .txt) from an input folder\n",
    "    and process with spacy \"\"\"\n",
    "    \n",
    "    docs=[]\n",
    "    for idx, filename in enumerate(glob.glob(os.path.join(inputDir, '*.txt'))):\n",
    "        with open(filename) as file:\n",
    "            docs.append((filename, nlp(file.read())))\n",
    "        if idx >= maxDocs:\n",
    "            break\n",
    "    return docs"
   ]
  },
  {
   "cell_type": "code",
   "execution_count": 21,
   "metadata": {},
   "outputs": [],
   "source": [
    "# directory with 2000 movies summaries from Wikipedia\n",
    "inputDir=\"../data/movie_summaries/\"\n",
    "docs=read_docs(inputDir, maxDocs=100)"
   ]
  },
  {
   "cell_type": "markdown",
   "metadata": {},
   "source": [
    "Here are the 45 tags used by the Penn Treebank:\n",
    "\n",
    "|tag|meaning|\n",
    "|---|---|\n",
    "|CC|Coordinating conjunction|\n",
    "|CD|Cardinal number|\n",
    "|DT|Determiner|\n",
    "|EX|Existential there|\n",
    "|FW|Foreign word|\n",
    "|IN|Preposition or subordinating conjunction|\n",
    "|JJ|Adjective|\n",
    "|JJR|Adjective, comparative|\n",
    "|JJS|Adjective, superlative|\n",
    "|LS|List item marker|\n",
    "|MD|Modal|\n",
    "|NN|Noun, singular or mass|\n",
    "|NNS|Noun, plural|\n",
    "|NNP|Proper noun, singular|\n",
    "|NNPS|Proper noun, plural|\n",
    "|PDT|Predeterminer|\n",
    "|POS|Possessive ending|\n",
    "|PRP|Personal pronoun|\n",
    "|PRP\\$|Possessive pronoun|\n",
    "|RB|Adverb|\n",
    "|RBR|Adverb, comparative|\n",
    "|RBS|Adverb, superlative|\n",
    "|RP|Particle|\n",
    "|SYM|Symbol|\n",
    "|TO|to|\n",
    "|UH|Interjection|\n",
    "|VB|Verb, base form|\n",
    "|VBD|Verb, past tense|\n",
    "|VBG|Verb, gerund or present participle|\n",
    "|VBN|Verb, past participle|\n",
    "|VBP|Verb, non-3rd person singular present|\n",
    "|VBZ|Verb, 3rd person singular present|\n",
    "|WDT|Wh-determiner|\n",
    "|WP|Wh-pronoun|\n",
    "|WP\\$|Possessive wh-pronoun|\n",
    "|WRB|Wh-adverb|\n",
    "|.|period|\n",
    "|,|comma|\n",
    "|:|colon|\n",
    "|(|left separator|\n",
    "|)|right separator|\n",
    "|$|dollar sign|\n",
    "|\\`\\`|open double quotes|\n",
    "|''|close double quotes|\n",
    "\n",
    "Explore these tags below by searching for sentences in the (automatically tagged) movie summary corpus that have been tagged for each one."
   ]
  },
  {
   "cell_type": "code",
   "execution_count": 22,
   "metadata": {},
   "outputs": [],
   "source": [
    "def find_examples(docs, tag, num_examples=10, window=5):\n",
    "    count=0\n",
    "    for _, doc in docs:\n",
    "        for idx, token in enumerate(doc[window:-window]):\n",
    "            if token.tag_ == tag:\n",
    "                print (' '.join([\"%s\" % context.text for context in doc[idx:idx+window ]]), \"\\033[91m%s\\033[0m\" % doc[idx+window].text, ' '.join([\"%s\" % context.text for context in doc[idx+window+1:idx+window+window+1] ]))\n",
    "                # for windows users - you may want to use the following print statement\n",
    "                # to highlight the middle token in each sentence using #s\n",
    "                # print (' '.join([\"%s\" % context.text for context in doc[idx:idx+window ]]), \"#%s#\" % doc[idx+window].text, ' '.join([\"%s\" % context.text for context in doc[idx+window+1:idx+window+window+1] ]))\n",
    "                count+=1\n",
    "                if count >= num_examples:\n",
    "                    return"
   ]
  },
  {
   "cell_type": "code",
   "execution_count": 23,
   "metadata": {},
   "outputs": [
    {
     "name": "stdout",
     "output_type": "stream",
     "text": [
      ", ten - year - \u001b[91mold\u001b[0m Tre Styles   lives with\n",
      "Styles   lives with his \u001b[91msingle\u001b[0m mother Reva Devereaux   in\n",
      "that although Tre is rather \u001b[91mintelligent\u001b[0m , he is immature and\n",
      "rather intelligent , he is \u001b[91mimmature\u001b[0m and lacks respect for classmates\n",
      "classmates and adults alike . \u001b[91mFrightened\u001b[0m about the future of her\n",
      "his 27 - year - \u001b[91mold\u001b[0m father , Furious Styles ,\n",
      "eventually decide the crime is \u001b[91munimportant\u001b[0m because nothing was taken and\n",
      "and the burglar escaped completely \u001b[91munharmed\u001b[0m . The police , particularly\n",
      "The police , particularly the \u001b[91mAfrican\u001b[0m American officer , treat Furious\n",
      "police , particularly the African \u001b[91mAmerican\u001b[0m officer , treat Furious with\n"
     ]
    }
   ],
   "source": [
    "find_examples(docs, \"JJ\", num_examples=10, window=5)"
   ]
  },
  {
   "cell_type": "markdown",
   "metadata": {},
   "source": [
    "What's the difference between the following?\n",
    "\n",
    "* PRP and PRP$\n",
    "* NN and NNP\n",
    "* JJ and JJR\n",
    "* VBZ and VB"
   ]
  },
  {
   "cell_type": "code",
   "execution_count": 25,
   "metadata": {},
   "outputs": [
    {
     "name": "stdout",
     "output_type": "stream",
     "text": [
      "Tre is rather intelligent , \u001b[91mhe\u001b[0m is immature and lacks respect\n",
      "her child , Reva sends \u001b[91mhim\u001b[0m to live in the Crenshaw\n",
      "Furious Styles , from whom \u001b[91mshe\u001b[0m hopes Tre will learn life\n",
      "of Tre 's arrival , \u001b[91mhe\u001b[0m hears his father firing at\n",
      "and street - smart . \u001b[91mHe\u001b[0m soon gets into a fight\n",
      "The ball is returned to \u001b[91mhim\u001b[0m later by a Crips gang\n",
      "a fishing trip , where \u001b[91mthey\u001b[0m talk , and he asks\n",
      "where they talk , and \u001b[91mhe\u001b[0m asks him about sexual nature\n",
      "talk , and he asks \u001b[91mhim\u001b[0m about sexual nature and discusses\n",
      "the responsibility of fatherhood to \u001b[91mhim\u001b[0m . The pair return to\n"
     ]
    }
   ],
   "source": [
    "find_examples(docs, \"PRP\")\n",
    "\n",
    "# PRP is a personal pronoun"
   ]
  },
  {
   "cell_type": "code",
   "execution_count": 26,
   "metadata": {},
   "outputs": [
    {
     "name": "stdout",
     "output_type": "stream",
     "text": [
      "Tre Styles   lives with \u001b[91mhis\u001b[0m single mother Reva Devereaux  \n",
      "a fight at school , \u001b[91mhis\u001b[0m teacher calls Reva . The\n",
      "Frightened about the future of \u001b[91mher\u001b[0m child , Reva sends him\n",
      "South Central Los Angeles with \u001b[91mhis\u001b[0m 27 - year - old\n",
      "'s arrival , he hears \u001b[91mhis\u001b[0m father firing at a burglar\n",
      "\" Doughboy \" Baker , \u001b[91mhis\u001b[0m maternal half - brother Ricky\n",
      "Doughboy and Ricky live with \u001b[91mtheir\u001b[0m mother across the street from\n",
      ", lives at home with \u001b[91mhis\u001b[0m mother Brenda , girlfriend Shanice\n",
      ", girlfriend Shanice , and \u001b[91mhis\u001b[0m newborn son . After the\n",
      "walks home with leftovers for \u001b[91mhis\u001b[0m father . As he walks\n"
     ]
    }
   ],
   "source": [
    "find_examples(docs, \"PRP$\")\n",
    "\n",
    "# PRP$ is a possessive pronoun"
   ]
  },
  {
   "cell_type": "code",
   "execution_count": 28,
   "metadata": {},
   "outputs": [
    {
     "name": "stdout",
     "output_type": "stream",
     "text": [
      "In 1984 , ten - \u001b[91myear\u001b[0m - old Tre Styles  \n",
      "  lives with his single \u001b[91mmother\u001b[0m Reva Devereaux   in Inglewood\n",
      "Tre gets involved in a \u001b[91mfight\u001b[0m at school , his teacher\n",
      "involved in a fight at \u001b[91mschool\u001b[0m , his teacher calls Reva\n",
      "fight at school , his \u001b[91mteacher\u001b[0m calls Reva . The teacher\n",
      "teacher calls Reva . The \u001b[91mteacher\u001b[0m informs Reva that although Tre\n",
      "he is immature and lacks \u001b[91mrespect\u001b[0m for classmates and adults alike\n",
      "alike . Frightened about the \u001b[91mfuture\u001b[0m of her child , Reva\n",
      "about the future of her \u001b[91mchild\u001b[0m , Reva sends him to\n",
      "to live in the Crenshaw \u001b[91mneighborhood\u001b[0m of South Central Los Angeles\n",
      "ten - year - old \u001b[91mTre\u001b[0m Styles   lives with his\n",
      "lives with his single mother \u001b[91mReva\u001b[0m Devereaux   in Inglewood ,\n",
      "with his single mother Reva \u001b[91mDevereaux\u001b[0m   in Inglewood , California\n",
      "mother Reva Devereaux   in \u001b[91mInglewood\u001b[0m , California . After Tre\n",
      "Devereaux   in Inglewood , \u001b[91mCalifornia\u001b[0m . After Tre gets involved\n",
      "Inglewood , California . After \u001b[91mTre\u001b[0m gets involved in a fight\n",
      "school , his teacher calls \u001b[91mReva\u001b[0m . The teacher informs Reva\n",
      "Reva . The teacher informs \u001b[91mReva\u001b[0m that although Tre is rather\n",
      "teacher informs Reva that although \u001b[91mTre\u001b[0m is rather intelligent , he\n",
      "future of her child , \u001b[91mReva\u001b[0m sends him to live in\n"
     ]
    }
   ],
   "source": [
    "find_examples(docs, \"NN\")\n",
    "# noun"
   ]
  },
  {
   "cell_type": "code",
   "execution_count": 29,
   "metadata": {},
   "outputs": [
    {
     "name": "stdout",
     "output_type": "stream",
     "text": [
      "ten - year - old \u001b[91mTre\u001b[0m Styles   lives with his\n",
      "lives with his single mother \u001b[91mReva\u001b[0m Devereaux   in Inglewood ,\n",
      "with his single mother Reva \u001b[91mDevereaux\u001b[0m   in Inglewood , California\n",
      "mother Reva Devereaux   in \u001b[91mInglewood\u001b[0m , California . After Tre\n",
      "Devereaux   in Inglewood , \u001b[91mCalifornia\u001b[0m . After Tre gets involved\n",
      "Inglewood , California . After \u001b[91mTre\u001b[0m gets involved in a fight\n",
      "school , his teacher calls \u001b[91mReva\u001b[0m . The teacher informs Reva\n",
      "Reva . The teacher informs \u001b[91mReva\u001b[0m that although Tre is rather\n",
      "teacher informs Reva that although \u001b[91mTre\u001b[0m is rather intelligent , he\n",
      "future of her child , \u001b[91mReva\u001b[0m sends him to live in\n"
     ]
    }
   ],
   "source": [
    "find_examples(docs, \"NNP\")\n",
    "# proper noun"
   ]
  },
  {
   "cell_type": "code",
   "execution_count": 36,
   "metadata": {},
   "outputs": [
    {
     "name": "stdout",
     "output_type": "stream",
     "text": [
      ", ten - year - \u001b[91mold\u001b[0m Tre Styles   lives with\n",
      "Styles   lives with his \u001b[91msingle\u001b[0m mother Reva Devereaux   in\n",
      "that although Tre is rather \u001b[91mintelligent\u001b[0m , he is immature and\n",
      "rather intelligent , he is \u001b[91mimmature\u001b[0m and lacks respect for classmates\n",
      "classmates and adults alike . \u001b[91mFrightened\u001b[0m about the future of her\n",
      "his 27 - year - \u001b[91mold\u001b[0m father , Furious Styles ,\n",
      "eventually decide the crime is \u001b[91munimportant\u001b[0m because nothing was taken and\n",
      "and the burglar escaped completely \u001b[91munharmed\u001b[0m . The police , particularly\n",
      "The police , particularly the \u001b[91mAfrican\u001b[0m American officer , treat Furious\n",
      "police , particularly the African \u001b[91mAmerican\u001b[0m officer , treat Furious with\n"
     ]
    }
   ],
   "source": [
    "find_examples(docs, \"JJ\")\n",
    "# adjective (all)"
   ]
  },
  {
   "cell_type": "code",
   "execution_count": 31,
   "metadata": {},
   "outputs": [
    {
     "name": "stdout",
     "output_type": "stream",
     "text": [
      "burglar . LAPD officers arrive \u001b[91mmore\u001b[0m than an hour later ,\n",
      "he has stomach cancer and \u001b[91mless\u001b[0m than a year to live\n",
      "Anything else is always something \u001b[91mbetter\u001b[0m . \" While Brian has\n",
      "named Bonnie , a wealthy \u001b[91molder\u001b[0m woman . Jordan catches Brian\n",
      ", I suppose in some \u001b[91mgreater\u001b[0m way . \" Alma constantly\n",
      "to clean up after the \u001b[91mearlier\u001b[0m mess . Bogomil fabricates a\n",
      "they are summoned to a \u001b[91mhigher\u001b[0m priority call . Vincent then\n",
      "with the Weasleys and becomes \u001b[91mcloser\u001b[0m to Ginny . They almost\n",
      "book may be filled with \u001b[91mmore\u001b[0m Dark Magic , Ginny and\n",
      "he will be mortal once \u001b[91mmore\u001b[0m . Rather than return for\n"
     ]
    }
   ],
   "source": [
    "find_examples(docs, \"JJR\")\n",
    "# comparative adjective (says that something is greater or less than or somehow compares two clauses)"
   ]
  },
  {
   "cell_type": "code",
   "execution_count": 34,
   "metadata": {},
   "outputs": [
    {
     "name": "stdout",
     "output_type": "stream",
     "text": [
      "- old Tre Styles   \u001b[91mlives\u001b[0m with his single mother Reva\n",
      ", California . After Tre \u001b[91mgets\u001b[0m involved in a fight at\n",
      "at school , his teacher \u001b[91mcalls\u001b[0m Reva . The teacher informs\n",
      "calls Reva . The teacher \u001b[91minforms\u001b[0m Reva that although Tre is\n",
      "informs Reva that although Tre \u001b[91mis\u001b[0m rather intelligent , he is\n",
      "is rather intelligent , he \u001b[91mis\u001b[0m immature and lacks respect for\n",
      ", he is immature and \u001b[91mlacks\u001b[0m respect for classmates and adults\n",
      "of her child , Reva \u001b[91msends\u001b[0m him to live in the\n",
      "Styles , from whom she \u001b[91mhopes\u001b[0m Tre will learn life lessons\n",
      "Tre 's arrival , he \u001b[91mhears\u001b[0m his father firing at a\n"
     ]
    }
   ],
   "source": [
    "find_examples(docs, \"VBZ\")\n",
    "# present tense verb (ends with s)"
   ]
  },
  {
   "cell_type": "code",
   "execution_count": 43,
   "metadata": {},
   "outputs": [
    {
     "name": "stdout",
     "output_type": "stream",
     "text": [
      ", Reva sends him to \u001b[91mlive\u001b[0m in the Crenshaw neighborhood of\n",
      "whom she hopes Tre will \u001b[91mlearn\u001b[0m life lessons . On the\n",
      "hour later , and eventually \u001b[91mdecide\u001b[0m the crime is unimportant because\n",
      "the African American officer , \u001b[91mtreat\u001b[0m Furious with disrespect and contempt\n",
      "gets into a fight to \u001b[91mretrieve\u001b[0m Ricky 's stolen football ,\n",
      "Furious , who appears to \u001b[91mbe\u001b[0m the only father present in\n",
      "street . He hurries to \u001b[91mpick\u001b[0m her up and brings her\n",
      "angrily reminding her to \" \u001b[91mkeep\u001b[0m the babies off the streets\n",
      "his first failed attempt to \u001b[91mhave\u001b[0m sex . Tre 's father\n",
      "from the USC comes to \u001b[91minterview\u001b[0m Ricky about college , with\n"
     ]
    }
   ],
   "source": [
    "find_examples(docs, \"VB\")\n",
    "# present tense verbs"
   ]
  },
  {
   "cell_type": "markdown",
   "metadata": {},
   "source": [
    "Q2: Use the `find_examples` function to help understand the usage of each part-of-speech tag; after doing so, manually tag the following four sentences (if you're doing this in class, you can work with a partner!)"
   ]
  },
  {
   "cell_type": "markdown",
   "metadata": {},
   "source": [
    "1. \"Open[VB] the[DT] pod[NN] bay[NN] doors[NN], Hal[NNP]\" "
   ]
  },
  {
   "cell_type": "markdown",
   "metadata": {},
   "source": [
    "2. \"Frankly[RB], my[PRP$] dear[NN], I[PRP] don't[VB] give[VB] a[DT] damn[NN]\"  "
   ]
  },
  {
   "cell_type": "markdown",
   "metadata": {},
   "source": [
    "3. \"May[?] the[DT] Force[NNP] be[VB] with[?] you[PRP]\" "
   ]
  },
  {
   "cell_type": "markdown",
   "metadata": {},
   "source": [
    "4. One[CD] morning[NN] I[PRP] shot[VB] an elephant[NN] in my[PRP$] pajamas[NN]. How he[PRP] got[VB] in my[PRP$] pajamas[NN], I[PRP] don't know  "
   ]
  },
  {
   "cell_type": "markdown",
   "metadata": {},
   "source": [
    "Q3. After tagging the sentences above by hand, run them through the spacy tagger; what's spacy's accuracy on these sentences?"
   ]
  },
  {
   "cell_type": "markdown",
   "metadata": {},
   "source": [
    "The spacy tags are often more specific than my manual tags, but they are really accurate generally!"
   ]
  },
  {
   "cell_type": "code",
   "execution_count": 44,
   "metadata": {},
   "outputs": [
    {
     "name": "stdout",
     "output_type": "stream",
     "text": [
      "Open VB\n",
      "the DT\n",
      "pod NNP\n",
      "bay NNP\n",
      "doors NNS\n",
      ", ,\n",
      "Hal NNP\n"
     ]
    }
   ],
   "source": [
    "get_spacy_tags(\"Open the pod bay doors, Hal\")"
   ]
  },
  {
   "cell_type": "code",
   "execution_count": 45,
   "metadata": {},
   "outputs": [
    {
     "name": "stdout",
     "output_type": "stream",
     "text": [
      "Frankly RB\n",
      ", ,\n",
      "my PRP$\n",
      "dear NN\n",
      ", ,\n",
      "I PRP\n",
      "do VBP\n",
      "n't RB\n",
      "give VB\n",
      "a DT\n",
      "damn NN\n"
     ]
    }
   ],
   "source": [
    "get_spacy_tags(\"Frankly, my dear, I don't give a damn\")"
   ]
  },
  {
   "cell_type": "code",
   "execution_count": 46,
   "metadata": {},
   "outputs": [
    {
     "name": "stdout",
     "output_type": "stream",
     "text": [
      "May MD\n",
      "the DT\n",
      "Force NNP\n",
      "be VB\n",
      "with IN\n",
      "you PRP\n"
     ]
    }
   ],
   "source": [
    "get_spacy_tags(\"May the Force be with you\")"
   ]
  },
  {
   "cell_type": "code",
   "execution_count": 47,
   "metadata": {},
   "outputs": [
    {
     "name": "stdout",
     "output_type": "stream",
     "text": [
      "One CD\n",
      "morning NN\n",
      "I PRP\n",
      "shot VBD\n",
      "an DT\n",
      "elephant NN\n",
      "in IN\n",
      "my PRP$\n",
      "pajamas NNS\n",
      ". .\n",
      "How WRB\n",
      "he PRP\n",
      "got VBD\n",
      "in IN\n",
      "my PRP$\n",
      "pajamas NNS\n",
      ", ,\n",
      "I PRP\n",
      "do VBP\n",
      "n't RB\n",
      "know VB\n",
      ". .\n"
     ]
    }
   ],
   "source": [
    "get_spacy_tags(\"One morning I shot an elephant in my pajamas. How he got in my pajamas, I don't know.\")"
   ]
  }
 ],
 "metadata": {
  "kernelspec": {
   "display_name": "Python 3 (ipykernel)",
   "language": "python",
   "name": "python3"
  },
  "language_info": {
   "codemirror_mode": {
    "name": "ipython",
    "version": 3
   },
   "file_extension": ".py",
   "mimetype": "text/x-python",
   "name": "python",
   "nbconvert_exporter": "python",
   "pygments_lexer": "ipython3",
   "version": "3.11.4"
  }
 },
 "nbformat": 4,
 "nbformat_minor": 2
}
